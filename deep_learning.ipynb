{
 "cells": [
  {
   "cell_type": "markdown",
   "metadata": {},
   "source": [
    "# Milestone II Companion Notebook - Misadventures in Deep Learning\n",
    "\n",
    "## *By Laura Stagnaro and Sean Cafferty*"
   ]
  },
  {
   "cell_type": "markdown",
   "metadata": {},
   "source": [
    "## Table of Contents: \n",
    "        1. LSTM Neural Network With Pretrained GloVe Embeddings\n",
    "        2. LSTM with TFIDF Encoder\n",
    "        3. DUAL PIPELINE (Numeric Columns & GLOVE Word Embeddings)\n",
    "        4. CNNs with Text"
   ]
  },
  {
   "cell_type": "code",
   "execution_count": null,
   "metadata": {},
   "outputs": [],
   "source": [
    "## ++++ WARNING! ++++++\n",
    "\n",
    "## Both the CSV of preprocessed data as well as the Stanford GloVe Word Embeddings were too large to store in the GitHub. \n",
    "\n",
    "## Nonetheless the GloVe files can be downloaded with the following code:\n",
    "#!wget http://nlp.stanford.edu/data/glove.6B.zip\n",
    "#!unzip -q glove.6B.zip\n",
    "\n",
    "## Meanwhile, the preprocessed data can be recreated by running the 'preprocessing' notebook available in the Github repository."
   ]
  },
  {
   "cell_type": "markdown",
   "metadata": {},
   "source": [
    "### Import Libraries"
   ]
  },
  {
   "cell_type": "code",
   "execution_count": 408,
   "metadata": {
    "id": "VSCURmZ64Zhp"
   },
   "outputs": [],
   "source": [
    "## Background Libraries\n",
    "\n",
    "import matplotlib.pyplot as plt\n",
    "import pandas as pd\n",
    "import os\n",
    "import numpy as np\n",
    "import nltk\n",
    "import string\n",
    "from tqdm import tqdm\n",
    "from gensim.models import Word2Vec\n",
    "from nltk.tokenize import word_tokenize\n",
    "from nltk.corpus import stopwords\n",
    "from numpy import zeros, asarray, array\n",
    "#nltk.download('stopwords')\n",
    "#nltk.download('punkt')"
   ]
  },
  {
   "cell_type": "code",
   "execution_count": 409,
   "metadata": {},
   "outputs": [],
   "source": [
    "## Custom Modules\n",
    "\n",
    "from nlpeeps import tools, feature_engine"
   ]
  },
  {
   "cell_type": "code",
   "execution_count": 410,
   "metadata": {},
   "outputs": [],
   "source": [
    "## Deep Learning Libraries\n",
    "\n",
    "import tensorflow as tf\n",
    "from tensorflow.python.keras.preprocessing.text import Tokenizer\n",
    "from tensorflow.python.keras.preprocessing.sequence import pad_sequences\n",
    "from keras.models import Sequential\n",
    "from keras.layers.core import Activation, Dropout, Dense\n",
    "from keras.layers import Dense, Embedding, LSTM, Dropout, Bidirectional, GlobalMaxPooling1D, Flatten,Conv1D, MaxPooling1D\n",
    "from keras.layers.embeddings import Embedding\n",
    "from keras.initializers import Constant\n",
    "from sklearn.metrics import accuracy_score\n",
    "from sklearn.model_selection import train_test_split\n",
    "from keras.preprocessing.text import one_hot\n",
    "from keras.preprocessing.sequence import pad_sequences\n",
    "from keras.models import Model\n",
    "from keras.layers.embeddings import Embedding\n",
    "from keras.preprocessing.text import Tokenizer\n",
    "from keras.layers import Input\n",
    "from keras.layers.merge import Concatenate\n",
    "from keras.layers.experimental.preprocessing import TextVectorization\n",
    "from tensorflow.keras.preprocessing import text, sequence"
   ]
  },
  {
   "cell_type": "markdown",
   "metadata": {
    "id": "8YiU8lid4Zhp"
   },
   "source": [
    "## Loading Data "
   ]
  },
  {
   "cell_type": "code",
   "execution_count": 411,
   "metadata": {},
   "outputs": [],
   "source": [
    "file = pd.read_csv('assets/wiki_train_preprocessed5.csv', encoding='utf-8')\n",
    "SAMPLE_SIZE = 100000\n",
    "\n",
    "np.random.seed(911)\n",
    "df = file.sample(SAMPLE_SIZE)"
   ]
  },
  {
   "cell_type": "code",
   "execution_count": 412,
   "metadata": {},
   "outputs": [
    {
     "data": {
      "text/plain": [
       "100000"
      ]
     },
     "execution_count": 412,
     "metadata": {},
     "output_type": "execute_result"
    }
   ],
   "source": [
    "len(df)"
   ]
  },
  {
   "cell_type": "code",
   "execution_count": 413,
   "metadata": {},
   "outputs": [
    {
     "data": {
      "text/html": [
       "<div>\n",
       "<style scoped>\n",
       "    .dataframe tbody tr th:only-of-type {\n",
       "        vertical-align: middle;\n",
       "    }\n",
       "\n",
       "    .dataframe tbody tr th {\n",
       "        vertical-align: top;\n",
       "    }\n",
       "\n",
       "    .dataframe thead th {\n",
       "        text-align: right;\n",
       "    }\n",
       "</style>\n",
       "<table border=\"1\" class=\"dataframe\">\n",
       "  <thead>\n",
       "    <tr style=\"text-align: right;\">\n",
       "      <th></th>\n",
       "      <th>original_text</th>\n",
       "      <th>label</th>\n",
       "      <th>tokens</th>\n",
       "      <th>length</th>\n",
       "      <th>advanced_word_count</th>\n",
       "      <th>advanced_words_ratio</th>\n",
       "      <th>named_entity_count</th>\n",
       "      <th>named_entity_ratio</th>\n",
       "      <th>punctuation_score</th>\n",
       "      <th>punctuation_ratio</th>\n",
       "      <th>...</th>\n",
       "      <th>VBP</th>\n",
       "      <th>VBZ</th>\n",
       "      <th>WDT</th>\n",
       "      <th>WP</th>\n",
       "      <th>WP$</th>\n",
       "      <th>WRB</th>\n",
       "      <th>token_lemmas</th>\n",
       "      <th>hard_word_count</th>\n",
       "      <th>hard_word_ratio</th>\n",
       "      <th>avg_word_length</th>\n",
       "    </tr>\n",
       "  </thead>\n",
       "  <tbody>\n",
       "    <tr>\n",
       "      <th>174894</th>\n",
       "      <td>Louvers originated in the Middle Ages as lante...</td>\n",
       "      <td>1</td>\n",
       "      <td>['Louvers', 'originated', 'in', 'the', 'Middle...</td>\n",
       "      <td>32</td>\n",
       "      <td>2</td>\n",
       "      <td>0.0625</td>\n",
       "      <td>1</td>\n",
       "      <td>0.03125</td>\n",
       "      <td>1</td>\n",
       "      <td>0.005376</td>\n",
       "      <td>...</td>\n",
       "      <td>0.0</td>\n",
       "      <td>0.0</td>\n",
       "      <td>0.03125</td>\n",
       "      <td>0.0</td>\n",
       "      <td>0.0</td>\n",
       "      <td>0.0</td>\n",
       "      <td>['louvers', 'originate', 'in', 'the', 'middle'...</td>\n",
       "      <td>2</td>\n",
       "      <td>0.066667</td>\n",
       "      <td>5.8125</td>\n",
       "    </tr>\n",
       "  </tbody>\n",
       "</table>\n",
       "<p>1 rows × 49 columns</p>\n",
       "</div>"
      ],
      "text/plain": [
       "                                            original_text  label  \\\n",
       "174894  Louvers originated in the Middle Ages as lante...      1   \n",
       "\n",
       "                                                   tokens  length  \\\n",
       "174894  ['Louvers', 'originated', 'in', 'the', 'Middle...      32   \n",
       "\n",
       "        advanced_word_count  advanced_words_ratio  named_entity_count  \\\n",
       "174894                    2                0.0625                   1   \n",
       "\n",
       "        named_entity_ratio  punctuation_score  punctuation_ratio  ...  VBP  \\\n",
       "174894             0.03125                  1           0.005376  ...  0.0   \n",
       "\n",
       "        VBZ      WDT   WP  WP$  WRB  \\\n",
       "174894  0.0  0.03125  0.0  0.0  0.0   \n",
       "\n",
       "                                             token_lemmas  hard_word_count  \\\n",
       "174894  ['louvers', 'originate', 'in', 'the', 'middle'...                2   \n",
       "\n",
       "        hard_word_ratio  avg_word_length  \n",
       "174894         0.066667           5.8125  \n",
       "\n",
       "[1 rows x 49 columns]"
      ]
     },
     "execution_count": 413,
     "metadata": {},
     "output_type": "execute_result"
    }
   ],
   "source": [
    "df.head(1)"
   ]
  },
  {
   "cell_type": "markdown",
   "metadata": {},
   "source": [
    "# **1 - LSTM Neural Network With Pretrained GloVe Embeddings**"
   ]
  },
  {
   "cell_type": "markdown",
   "metadata": {},
   "source": [
    "## *1.1 Preprocess Data*"
   ]
  },
  {
   "cell_type": "code",
   "execution_count": 414,
   "metadata": {
    "id": "YNCYuKDl4Zhq"
   },
   "outputs": [
    {
     "name": "stderr",
     "output_type": "stream",
     "text": [
      "100%|██████████| 100000/100000 [00:36<00:00, 2762.80it/s]\n"
     ]
    }
   ],
   "source": [
    "import string\n",
    "from nltk.tokenize import word_tokenize\n",
    "from nltk.corpus import stopwords\n",
    "\n",
    "sentences = list()\n",
    "\n",
    "lines = df['original_text'].values.tolist()\n",
    "\n",
    "for line in tqdm(lines):\n",
    "    tokens = word_tokenize(line)\n",
    "    tokens = [word.lower() for word in tokens]\n",
    "    table = str.maketrans('','',string.punctuation)\n",
    "    new_stopwords = []\n",
    "    stpwrd = nltk.corpus.stopwords.words('english')\n",
    "    stpwrd.extend(new_stopwords)\n",
    "    stripped = [w.translate(table) for w in tokens]\n",
    "    words = [word for word in stripped if word.isalpha()]\n",
    "    stop_words = set(stpwrd)\n",
    "    words = [w for w in words if not w in stop_words]\n",
    "    sentences.append(words)"
   ]
  },
  {
   "cell_type": "code",
   "execution_count": 415,
   "metadata": {
    "id": "oLtdBM6O4Zhu"
   },
   "outputs": [
    {
     "name": "stderr",
     "output_type": "stream",
     "text": [
      "400000it [00:26, 15066.46it/s]\n"
     ]
    }
   ],
   "source": [
    "import os\n",
    "embeddings_index = {}\n",
    "\n",
    "f = open('assets/glove.6B.300d.txt', encoding='utf-8')\n",
    "for line in tqdm(f):\n",
    "    values = line.split()\n",
    "    word = values[0]\n",
    "    coefs = np.asarray(values[1:])\n",
    "    embeddings_index[word] = coefs\n",
    "    \n",
    "f.close()  "
   ]
  },
  {
   "cell_type": "markdown",
   "metadata": {},
   "source": [
    "## *1.2 Make Train/Test/Validation Sets*"
   ]
  },
  {
   "cell_type": "code",
   "execution_count": 416,
   "metadata": {
    "id": "q__CrdWd4Zhu"
   },
   "outputs": [
    {
     "name": "stdout",
     "output_type": "stream",
     "text": [
      "(100000, 150)\n",
      "(100000,)\n"
     ]
    }
   ],
   "source": [
    "VALIDATION_SPLIT = 0.2\n",
    "\n",
    "tokenizer_obj = Tokenizer()\n",
    "tokenizer_obj.fit_on_texts(sentences)\n",
    "sequences = tokenizer_obj.texts_to_sequences(sentences)\n",
    "\n",
    "max_length = 150\n",
    "\n",
    "word_index = tokenizer_obj.word_index\n",
    "\n",
    "review_pad = pad_sequences(sequences, maxlen=max_length)\n",
    "sentiment = df['label'].values\n",
    "\n",
    "print(review_pad.shape)\n",
    "print(sentiment.shape)\n",
    "\n",
    "indices = np.arange(review_pad.shape[0])\n",
    "np.random.shuffle(indices)\n",
    "review_pad = review_pad[indices]\n",
    "sentiment = sentiment[indices]\n",
    "num_validation_samples = int(VALIDATION_SPLIT * review_pad.shape[0])\n",
    "\n",
    "X_val_pad = review_pad[:num_validation_samples]\n",
    "y_val = sentiment[:num_validation_samples]\n",
    "X_train_pad = review_pad[num_validation_samples:]\n",
    "y_train = sentiment[num_validation_samples:]"
   ]
  },
  {
   "cell_type": "code",
   "execution_count": 417,
   "metadata": {
    "id": "lZRVSgqm4Zhu"
   },
   "outputs": [],
   "source": [
    "TEST_SPLIT = 0.1\n",
    "\n",
    "num_test_samples = int(TEST_SPLIT * X_train_pad.shape[0])\n",
    "\n",
    "X_test_pad = X_train_pad[:num_test_samples]\n",
    "y_test = y_train[:num_test_samples]\n",
    "X_train_pad = X_train_pad[num_test_samples:]\n",
    "y_train = y_train[num_test_samples:]"
   ]
  },
  {
   "cell_type": "code",
   "execution_count": 418,
   "metadata": {
    "id": "I_-9p8Zl4Zhu"
   },
   "outputs": [
    {
     "name": "stdout",
     "output_type": "stream",
     "text": [
      "(72000, 150)\n",
      "(72000,)\n",
      "(20000, 150)\n",
      "(20000,)\n",
      "(8000, 150)\n",
      "(8000,)\n"
     ]
    }
   ],
   "source": [
    "print(X_train_pad.shape)\n",
    "print(y_train.shape)\n",
    "\n",
    "print(X_val_pad.shape)\n",
    "print(y_val.shape)\n",
    "\n",
    "print(X_test_pad.shape)\n",
    "print(y_test.shape)"
   ]
  },
  {
   "cell_type": "markdown",
   "metadata": {},
   "source": [
    "## *1.3 Make Embedding Layer*"
   ]
  },
  {
   "cell_type": "code",
   "execution_count": 419,
   "metadata": {
    "id": "ztEL1jwe4Zhv"
   },
   "outputs": [],
   "source": [
    "EMBEDDING_DIM = 300\n",
    "\n",
    "num_words = len(word_index)+1\n",
    "embedding_matrix = np.zeros((num_words,EMBEDDING_DIM))\n",
    "\n",
    "for word, i in word_index.items():\n",
    "    if i > num_words:\n",
    "        continue\n",
    "    embedding_vector = embeddings_index.get(word)\n",
    "    if embedding_vector is not None:\n",
    "        embedding_matrix[i] = embedding_vector"
   ]
  },
  {
   "cell_type": "markdown",
   "metadata": {},
   "source": [
    "## *1.4 Build Deep-Learning Model*"
   ]
  },
  {
   "cell_type": "code",
   "execution_count": 420,
   "metadata": {
    "id": "oht4S0Si4Zhv"
   },
   "outputs": [
    {
     "name": "stdout",
     "output_type": "stream",
     "text": [
      "Model: \"sequential_20\"\n",
      "_________________________________________________________________\n",
      "Layer (type)                 Output Shape              Param #   \n",
      "=================================================================\n",
      "embedding_29 (Embedding)     (None, 150, 300)          26214300  \n",
      "_________________________________________________________________\n",
      "lstm_29 (LSTM)               (None, 150, 10)           12440     \n",
      "_________________________________________________________________\n",
      "lstm_30 (LSTM)               (None, 10)                840       \n",
      "_________________________________________________________________\n",
      "dropout_42 (Dropout)         (None, 10)                0         \n",
      "_________________________________________________________________\n",
      "dense_108 (Dense)            (None, 10)                110       \n",
      "_________________________________________________________________\n",
      "dense_109 (Dense)            (None, 1)                 11        \n",
      "=================================================================\n",
      "Total params: 26,227,701\n",
      "Trainable params: 13,401\n",
      "Non-trainable params: 26,214,300\n",
      "_________________________________________________________________\n",
      "None\n"
     ]
    }
   ],
   "source": [
    "model = Sequential()\n",
    "embedding_layer = Embedding(num_words,\n",
    "                           EMBEDDING_DIM,\n",
    "                           embeddings_initializer=Constant(embedding_matrix),\n",
    "                           input_length=max_length,\n",
    "                           trainable=False)\n",
    "model.add(embedding_layer)\n",
    "model.add(LSTM(units=10,return_sequences=True, dropout=0.4, recurrent_dropout=0.4))\n",
    "model.add(LSTM(10))\n",
    "model.add(Dropout(0.4))\n",
    "model.add(Dense(10,activation='relu'))\n",
    "model.add(Dense(1,activation='sigmoid'))\n",
    "\n",
    "model.compile(loss='binary_crossentropy',optimizer='adam',metrics='accuracy')\n",
    "\n",
    "print(model.summary())"
   ]
  },
  {
   "cell_type": "markdown",
   "metadata": {},
   "source": [
    "## *1.5 Train Deep-Learning Model*"
   ]
  },
  {
   "cell_type": "code",
   "execution_count": 421,
   "metadata": {
    "id": "dCNIglbd4Zhv"
   },
   "outputs": [
    {
     "name": "stdout",
     "output_type": "stream",
     "text": [
      "Epoch 1/10\n",
      "563/563 [==============================] - 127s 218ms/step - loss: 0.6700 - accuracy: 0.5854 - val_loss: 0.6182 - val_accuracy: 0.6561\n",
      "Epoch 2/10\n",
      "563/563 [==============================] - 121s 214ms/step - loss: 0.6205 - accuracy: 0.6580 - val_loss: 0.6015 - val_accuracy: 0.6663\n",
      "Epoch 3/10\n",
      "563/563 [==============================] - 114s 203ms/step - loss: 0.6047 - accuracy: 0.6718 - val_loss: 0.5977 - val_accuracy: 0.6686\n",
      "Epoch 4/10\n",
      "563/563 [==============================] - 119s 211ms/step - loss: 0.5992 - accuracy: 0.6746 - val_loss: 0.5907 - val_accuracy: 0.6761\n",
      "Epoch 5/10\n",
      "563/563 [==============================] - 115s 204ms/step - loss: 0.5966 - accuracy: 0.6739 - val_loss: 0.5896 - val_accuracy: 0.6761\n",
      "Epoch 6/10\n",
      "563/563 [==============================] - 114s 203ms/step - loss: 0.5916 - accuracy: 0.6783 - val_loss: 0.5872 - val_accuracy: 0.6787\n",
      "Epoch 7/10\n",
      "563/563 [==============================] - 113s 201ms/step - loss: 0.5876 - accuracy: 0.6801 - val_loss: 0.5885 - val_accuracy: 0.6777\n",
      "Epoch 8/10\n",
      "563/563 [==============================] - 112s 199ms/step - loss: 0.5828 - accuracy: 0.6867 - val_loss: 0.5860 - val_accuracy: 0.6787\n",
      "Epoch 9/10\n",
      "563/563 [==============================] - 112s 198ms/step - loss: 0.5820 - accuracy: 0.6871 - val_loss: 0.5834 - val_accuracy: 0.6811\n",
      "Epoch 10/10\n",
      "563/563 [==============================] - 115s 204ms/step - loss: 0.5815 - accuracy: 0.6885 - val_loss: 0.5812 - val_accuracy: 0.6809\n"
     ]
    }
   ],
   "source": [
    "batch_size=128\n",
    "epochs = 10\n",
    "\n",
    "history = model.fit(X_train_pad, y_train, batch_size=batch_size, epochs=epochs,\n",
    "                   validation_data=(X_val_pad,y_val),verbose=1)"
   ]
  },
  {
   "cell_type": "markdown",
   "metadata": {},
   "source": [
    "## *1.6 Evaluate Deep Learning Model*"
   ]
  },
  {
   "cell_type": "code",
   "execution_count": 422,
   "metadata": {
    "id": "m1n26z_V4Zhw"
   },
   "outputs": [
    {
     "name": "stdout",
     "output_type": "stream",
     "text": [
      "63/63 [==============================] - 3s 53ms/step - loss: 0.5854 - accuracy: 0.6769\n",
      "Test score: 0.5853555798530579\n",
      "Test accuracy: 0.6768749952316284\n"
     ]
    }
   ],
   "source": [
    "score, acc = model.evaluate(X_test_pad, y_test, batch_size=128)\n",
    "\n",
    "print('Test score:', score)\n",
    "print('Test accuracy:', acc)"
   ]
  },
  {
   "cell_type": "code",
   "execution_count": 423,
   "metadata": {
    "id": "9-7Rn7jo4Zhw"
   },
   "outputs": [
    {
     "name": "stdout",
     "output_type": "stream",
     "text": [
      "dict_keys(['loss', 'accuracy', 'val_loss', 'val_accuracy'])\n"
     ]
    },
    {
     "data": {
      "image/png": "[encoded data removed]",
      "text/plain": [
       "<Figure size 432x288 with 1 Axes>"
      ]
     },
     "metadata": {
      "needs_background": "light"
     },
     "output_type": "display_data"
    },
    {
     "data": {
      "image/png": "[encoded data removed]",
      "text/plain": [
       "<Figure size 432x288 with 1 Axes>"
      ]
     },
     "metadata": {
      "needs_background": "light"
     },
     "output_type": "display_data"
    }
   ],
   "source": [
    "print(history.history.keys())\n",
    "\n",
    "plt.plot(history.history['accuracy'])\n",
    "plt.plot(history.history['val_accuracy'])\n",
    "plt.title('model accuracy')\n",
    "plt.ylabel('accuracy')\n",
    "plt.xlabel('epoch')\n",
    "plt.legend(['train','validation'],loc='upper left')\n",
    "plt.show()\n",
    "#loss\n",
    "plt.plot(history.history['loss'])\n",
    "plt.plot(history.history['val_loss'])\n",
    "plt.title('model loss')\n",
    "plt.ylabel('loss')\n",
    "plt.xlabel('epoch')\n",
    "plt.legend(['train','validation'],loc='upper left')\n",
    "plt.show()"
   ]
  },
  {
   "cell_type": "code",
   "execution_count": 424,
   "metadata": {},
   "outputs": [
    {
     "name": "stdout",
     "output_type": "stream",
     "text": [
      "250/250 [==============================] - 6s 21ms/step\n"
     ]
    }
   ],
   "source": [
    "y_testing = model.predict(x=X_test_pad, verbose=1, batch_size=32)"
   ]
  },
  {
   "cell_type": "code",
   "execution_count": 425,
   "metadata": {},
   "outputs": [
    {
     "data": {
      "text/html": [
       "<div>\n",
       "<style scoped>\n",
       "    .dataframe tbody tr th:only-of-type {\n",
       "        vertical-align: middle;\n",
       "    }\n",
       "\n",
       "    .dataframe tbody tr th {\n",
       "        vertical-align: top;\n",
       "    }\n",
       "\n",
       "    .dataframe thead th {\n",
       "        text-align: right;\n",
       "    }\n",
       "</style>\n",
       "<table border=\"1\" class=\"dataframe\">\n",
       "  <thead>\n",
       "    <tr style=\"text-align: right;\">\n",
       "      <th></th>\n",
       "      <th>label</th>\n",
       "    </tr>\n",
       "  </thead>\n",
       "  <tbody>\n",
       "    <tr>\n",
       "      <th>7995</th>\n",
       "      <td>1</td>\n",
       "    </tr>\n",
       "    <tr>\n",
       "      <th>7996</th>\n",
       "      <td>1</td>\n",
       "    </tr>\n",
       "    <tr>\n",
       "      <th>7997</th>\n",
       "      <td>0</td>\n",
       "    </tr>\n",
       "    <tr>\n",
       "      <th>7998</th>\n",
       "      <td>0</td>\n",
       "    </tr>\n",
       "    <tr>\n",
       "      <th>7999</th>\n",
       "      <td>0</td>\n",
       "    </tr>\n",
       "  </tbody>\n",
       "</table>\n",
       "</div>"
      ],
      "text/plain": [
       "      label\n",
       "7995      1\n",
       "7996      1\n",
       "7997      0\n",
       "7998      0\n",
       "7999      0"
      ]
     },
     "execution_count": 425,
     "metadata": {},
     "output_type": "execute_result"
    }
   ],
   "source": [
    "test_df = pd.DataFrame(y_test).rename(columns={0:'label'})\n",
    "test_df.tail()"
   ]
  },
  {
   "cell_type": "code",
   "execution_count": 426,
   "metadata": {},
   "outputs": [
    {
     "data": {
      "text/html": [
       "<div>\n",
       "<style scoped>\n",
       "    .dataframe tbody tr th:only-of-type {\n",
       "        vertical-align: middle;\n",
       "    }\n",
       "\n",
       "    .dataframe tbody tr th {\n",
       "        vertical-align: top;\n",
       "    }\n",
       "\n",
       "    .dataframe thead th {\n",
       "        text-align: right;\n",
       "    }\n",
       "</style>\n",
       "<table border=\"1\" class=\"dataframe\">\n",
       "  <thead>\n",
       "    <tr style=\"text-align: right;\">\n",
       "      <th></th>\n",
       "      <th>label</th>\n",
       "      <th>pred</th>\n",
       "    </tr>\n",
       "  </thead>\n",
       "  <tbody>\n",
       "    <tr>\n",
       "      <th>5801</th>\n",
       "      <td>1</td>\n",
       "      <td>1</td>\n",
       "    </tr>\n",
       "    <tr>\n",
       "      <th>7312</th>\n",
       "      <td>0</td>\n",
       "      <td>0</td>\n",
       "    </tr>\n",
       "    <tr>\n",
       "      <th>7371</th>\n",
       "      <td>0</td>\n",
       "      <td>0</td>\n",
       "    </tr>\n",
       "    <tr>\n",
       "      <th>7270</th>\n",
       "      <td>0</td>\n",
       "      <td>0</td>\n",
       "    </tr>\n",
       "    <tr>\n",
       "      <th>6639</th>\n",
       "      <td>1</td>\n",
       "      <td>1</td>\n",
       "    </tr>\n",
       "    <tr>\n",
       "      <th>3705</th>\n",
       "      <td>1</td>\n",
       "      <td>1</td>\n",
       "    </tr>\n",
       "    <tr>\n",
       "      <th>3494</th>\n",
       "      <td>1</td>\n",
       "      <td>1</td>\n",
       "    </tr>\n",
       "    <tr>\n",
       "      <th>4641</th>\n",
       "      <td>0</td>\n",
       "      <td>0</td>\n",
       "    </tr>\n",
       "    <tr>\n",
       "      <th>6330</th>\n",
       "      <td>0</td>\n",
       "      <td>0</td>\n",
       "    </tr>\n",
       "    <tr>\n",
       "      <th>945</th>\n",
       "      <td>0</td>\n",
       "      <td>0</td>\n",
       "    </tr>\n",
       "  </tbody>\n",
       "</table>\n",
       "</div>"
      ],
      "text/plain": [
       "      label  pred\n",
       "5801      1     1\n",
       "7312      0     0\n",
       "7371      0     0\n",
       "7270      0     0\n",
       "6639      1     1\n",
       "3705      1     1\n",
       "3494      1     1\n",
       "4641      0     0\n",
       "6330      0     0\n",
       "945       0     0"
      ]
     },
     "execution_count": 426,
     "metadata": {},
     "output_type": "execute_result"
    }
   ],
   "source": [
    "test_df['pred'] = [0 if x<.5 else 1 for x in y_testing ]\n",
    "test_df.sample(10)"
   ]
  },
  {
   "cell_type": "code",
   "execution_count": 427,
   "metadata": {},
   "outputs": [
    {
     "data": {
      "text/plain": [
       "8000"
      ]
     },
     "execution_count": 427,
     "metadata": {},
     "output_type": "execute_result"
    }
   ],
   "source": [
    "len(test_df)"
   ]
  },
  {
   "cell_type": "code",
   "execution_count": 428,
   "metadata": {},
   "outputs": [
    {
     "data": {
      "text/plain": [
       "0.676875"
      ]
     },
     "execution_count": 428,
     "metadata": {},
     "output_type": "execute_result"
    }
   ],
   "source": [
    "accuracy_score(test_df['pred'],test_df['label'])"
   ]
  },
  {
   "cell_type": "markdown",
   "metadata": {},
   "source": [
    "# **2 - LSTM with TFIDF Encoder**"
   ]
  },
  {
   "cell_type": "markdown",
   "metadata": {},
   "source": [
    "## *2.1 Split Test/Train Set*"
   ]
  },
  {
   "cell_type": "code",
   "execution_count": 429,
   "metadata": {},
   "outputs": [],
   "source": [
    "X = df['original_text']\n",
    "y = df['label']\n",
    "\n",
    "X_train, X_test, y_train, y_test = train_test_split(X,y,random_state=911)"
   ]
  },
  {
   "cell_type": "markdown",
   "metadata": {},
   "source": [
    "## *2.2 Build Encoder*"
   ]
  },
  {
   "cell_type": "code",
   "execution_count": 430,
   "metadata": {},
   "outputs": [],
   "source": [
    "VOCAB_SIZE = 20000\n",
    "max_len=100\n",
    "encoder = TextVectorization(\n",
    "    max_tokens=VOCAB_SIZE,\n",
    "    output_sequence_length=max_len)\n",
    "encoder.adapt(np.array(X_train))  # check words or length w/ len(encoder.get_vocabulary())\n"
   ]
  },
  {
   "cell_type": "markdown",
   "metadata": {},
   "source": [
    "## *2.3 Build Deep Learning Model*"
   ]
  },
  {
   "cell_type": "code",
   "execution_count": 431,
   "metadata": {},
   "outputs": [
    {
     "name": "stdout",
     "output_type": "stream",
     "text": [
      "Model: \"sequential_21\"\n",
      "_________________________________________________________________\n",
      "Layer (type)                 Output Shape              Param #   \n",
      "=================================================================\n",
      "text_vectorization_5 (TextVe (None, 100)               0         \n",
      "_________________________________________________________________\n",
      "embedding_30 (Embedding)     (None, 100, 64)           1280000   \n",
      "_________________________________________________________________\n",
      "bidirectional_10 (Bidirectio (None, 100, 20)           6000      \n",
      "_________________________________________________________________\n",
      "bidirectional_11 (Bidirectio (None, 20)                2480      \n",
      "_________________________________________________________________\n",
      "dense_110 (Dense)            (None, 64)                1344      \n",
      "_________________________________________________________________\n",
      "dropout_43 (Dropout)         (None, 64)                0         \n",
      "_________________________________________________________________\n",
      "dense_111 (Dense)            (None, 1)                 65        \n",
      "=================================================================\n",
      "Total params: 1,289,889\n",
      "Trainable params: 1,289,889\n",
      "Non-trainable params: 0\n",
      "_________________________________________________________________\n",
      "None\n"
     ]
    }
   ],
   "source": [
    "\n",
    "## Build Model\n",
    "\n",
    "model = Sequential()\n",
    "\n",
    "model.add(Input(shape=(1,),dtype='string'))\n",
    "model.add(encoder)\n",
    "model.add(Embedding(\n",
    "        input_dim=len(encoder.get_vocabulary()),\n",
    "        output_dim=64,\n",
    "        mask_zero=True))\n",
    "model.add(Bidirectional(LSTM(10, return_sequences=True, dropout=0.5, recurrent_dropout=0.5), input_shape=(5, 10)))\n",
    "model.add(Bidirectional(LSTM(10)))\n",
    "model.add(Dense(64, activation='relu'))\n",
    "model.add(Dropout(0.5))\n",
    "model.add(Dense(1, activation='sigmoid'))\n",
    "\n",
    "model.compile(loss='binary_crossentropy',optimizer='adam',metrics='accuracy')\n",
    "print(model.summary())"
   ]
  },
  {
   "cell_type": "markdown",
   "metadata": {},
   "source": [
    "## *2.4 Train Deep Learning Model*"
   ]
  },
  {
   "cell_type": "code",
   "execution_count": 432,
   "metadata": {},
   "outputs": [
    {
     "name": "stdout",
     "output_type": "stream",
     "text": [
      "Epoch 1/10\n",
      "469/469 [==============================] - 82s 157ms/step - loss: 0.6549 - accuracy: 0.6090 - val_loss: 0.5914 - val_accuracy: 0.6790\n",
      "Epoch 2/10\n",
      "469/469 [==============================] - 68s 145ms/step - loss: 0.5328 - accuracy: 0.7389 - val_loss: 0.5945 - val_accuracy: 0.6790\n",
      "Epoch 3/10\n",
      "469/469 [==============================] - 70s 149ms/step - loss: 0.4605 - accuracy: 0.7773 - val_loss: 0.6331 - val_accuracy: 0.6712\n",
      "Epoch 4/10\n",
      "469/469 [==============================] - 68s 144ms/step - loss: 0.4048 - accuracy: 0.8068 - val_loss: 0.7069 - val_accuracy: 0.6675\n",
      "Epoch 5/10\n",
      "469/469 [==============================] - 68s 144ms/step - loss: 0.3475 - accuracy: 0.8341 - val_loss: 0.8269 - val_accuracy: 0.6619\n",
      "Epoch 6/10\n",
      "469/469 [==============================] - 68s 144ms/step - loss: 0.3020 - accuracy: 0.8562 - val_loss: 0.9256 - val_accuracy: 0.6547\n",
      "Epoch 7/10\n",
      "469/469 [==============================] - 68s 144ms/step - loss: 0.2742 - accuracy: 0.8717 - val_loss: 1.0169 - val_accuracy: 0.6505\n",
      "Epoch 8/10\n",
      "469/469 [==============================] - 66s 141ms/step - loss: 0.2462 - accuracy: 0.8879 - val_loss: 1.1931 - val_accuracy: 0.6498\n",
      "Epoch 9/10\n",
      "469/469 [==============================] - 66s 141ms/step - loss: 0.2248 - accuracy: 0.8961 - val_loss: 1.2986 - val_accuracy: 0.6515\n",
      "Epoch 10/10\n",
      "469/469 [==============================] - 66s 141ms/step - loss: 0.2005 - accuracy: 0.9087 - val_loss: 1.4283 - val_accuracy: 0.6439\n"
     ]
    }
   ],
   "source": [
    "batch_size=128\n",
    "epochs = 10\n",
    "\n",
    "history = model.fit(X_train, y_train, batch_size=batch_size, epochs=epochs,\n",
    "                   validation_split=0.2,verbose=1)"
   ]
  },
  {
   "cell_type": "markdown",
   "metadata": {},
   "source": [
    "## *2.5 Evaluate Deep Learning Model*"
   ]
  },
  {
   "cell_type": "code",
   "execution_count": 433,
   "metadata": {},
   "outputs": [
    {
     "name": "stdout",
     "output_type": "stream",
     "text": [
      "dict_keys(['loss', 'accuracy', 'val_loss', 'val_accuracy'])\n"
     ]
    },
    {
     "data": {
      "image/png": "[encoded data removed]",
      "text/plain": [
       "<Figure size 432x288 with 1 Axes>"
      ]
     },
     "metadata": {
      "needs_background": "light"
     },
     "output_type": "display_data"
    },
    {
     "data": {
      "image/png": "[encoded data removed]",
      "text/plain": [
       "<Figure size 432x288 with 1 Axes>"
      ]
     },
     "metadata": {
      "needs_background": "light"
     },
     "output_type": "display_data"
    }
   ],
   "source": [
    "print(history.history.keys())\n",
    "\n",
    "plt.plot(history.history['accuracy'])\n",
    "plt.plot(history.history['val_accuracy'])\n",
    "plt.title('model accuracy')\n",
    "plt.ylabel('accuracy')\n",
    "plt.xlabel('epoch')\n",
    "plt.legend(['train','validation'],loc='upper left')\n",
    "plt.show()\n",
    "#loss\n",
    "plt.plot(history.history['loss'])\n",
    "plt.plot(history.history['val_loss'])\n",
    "plt.title('model loss')\n",
    "plt.ylabel('loss')\n",
    "plt.xlabel('epoch')\n",
    "plt.legend(['train','validation'],loc='upper left')\n",
    "plt.show()"
   ]
  },
  {
   "cell_type": "code",
   "execution_count": 434,
   "metadata": {},
   "outputs": [
    {
     "name": "stdout",
     "output_type": "stream",
     "text": [
      "782/782 [==============================] - 18s 20ms/step\n"
     ]
    },
    {
     "data": {
      "text/plain": [
       "0.6436"
      ]
     },
     "execution_count": 434,
     "metadata": {},
     "output_type": "execute_result"
    }
   ],
   "source": [
    "y_testing = model.predict(x=X_test, verbose=1, batch_size=32)\n",
    "test_df = pd.DataFrame(y_test)\n",
    "test_df['pred'] = [0 if x<.5 else 1 for x in y_testing ]\n",
    "accuracy_score(test_df['pred'],test_df['label'])"
   ]
  },
  {
   "cell_type": "markdown",
   "metadata": {},
   "source": [
    "# **3 - DUAL PIPELINE (Numeric Columns & GloVe Word Embeddings)**"
   ]
  },
  {
   "cell_type": "markdown",
   "metadata": {},
   "source": [
    "## *3.1 - Build Numeric Pipeline*"
   ]
  },
  {
   "cell_type": "code",
   "execution_count": 435,
   "metadata": {},
   "outputs": [],
   "source": [
    "numeric_columns = tools.get_numeric_columns_list(df)"
   ]
  },
  {
   "cell_type": "code",
   "execution_count": 436,
   "metadata": {},
   "outputs": [
    {
     "data": {
      "text/html": [
       "<div>\n",
       "<style scoped>\n",
       "    .dataframe tbody tr th:only-of-type {\n",
       "        vertical-align: middle;\n",
       "    }\n",
       "\n",
       "    .dataframe tbody tr th {\n",
       "        vertical-align: top;\n",
       "    }\n",
       "\n",
       "    .dataframe thead th {\n",
       "        text-align: right;\n",
       "    }\n",
       "</style>\n",
       "<table border=\"1\" class=\"dataframe\">\n",
       "  <thead>\n",
       "    <tr style=\"text-align: right;\">\n",
       "      <th></th>\n",
       "      <th>length</th>\n",
       "      <th>advanced_word_count</th>\n",
       "      <th>advanced_words_ratio</th>\n",
       "      <th>named_entity_count</th>\n",
       "      <th>named_entity_ratio</th>\n",
       "      <th>punctuation_score</th>\n",
       "      <th>punctuation_ratio</th>\n",
       "      <th>CC</th>\n",
       "      <th>CD</th>\n",
       "      <th>DT</th>\n",
       "      <th>...</th>\n",
       "      <th>VBN</th>\n",
       "      <th>VBP</th>\n",
       "      <th>VBZ</th>\n",
       "      <th>WDT</th>\n",
       "      <th>WP</th>\n",
       "      <th>WP$</th>\n",
       "      <th>WRB</th>\n",
       "      <th>hard_word_count</th>\n",
       "      <th>hard_word_ratio</th>\n",
       "      <th>avg_word_length</th>\n",
       "    </tr>\n",
       "  </thead>\n",
       "  <tbody>\n",
       "    <tr>\n",
       "      <th>174894</th>\n",
       "      <td>32</td>\n",
       "      <td>2</td>\n",
       "      <td>0.062500</td>\n",
       "      <td>1</td>\n",
       "      <td>0.031250</td>\n",
       "      <td>1</td>\n",
       "      <td>0.005376</td>\n",
       "      <td>0.031250</td>\n",
       "      <td>0.0</td>\n",
       "      <td>0.031250</td>\n",
       "      <td>...</td>\n",
       "      <td>0.062500</td>\n",
       "      <td>0.0</td>\n",
       "      <td>0.000000</td>\n",
       "      <td>0.03125</td>\n",
       "      <td>0.0</td>\n",
       "      <td>0.0</td>\n",
       "      <td>0.0</td>\n",
       "      <td>2</td>\n",
       "      <td>0.066667</td>\n",
       "      <td>5.812500</td>\n",
       "    </tr>\n",
       "    <tr>\n",
       "      <th>362266</th>\n",
       "      <td>11</td>\n",
       "      <td>0</td>\n",
       "      <td>0.000000</td>\n",
       "      <td>3</td>\n",
       "      <td>0.272727</td>\n",
       "      <td>0</td>\n",
       "      <td>0.000000</td>\n",
       "      <td>0.000000</td>\n",
       "      <td>0.0</td>\n",
       "      <td>0.181818</td>\n",
       "      <td>...</td>\n",
       "      <td>0.000000</td>\n",
       "      <td>0.0</td>\n",
       "      <td>0.090909</td>\n",
       "      <td>0.00000</td>\n",
       "      <td>0.0</td>\n",
       "      <td>0.0</td>\n",
       "      <td>0.0</td>\n",
       "      <td>2</td>\n",
       "      <td>0.200000</td>\n",
       "      <td>4.272727</td>\n",
       "    </tr>\n",
       "    <tr>\n",
       "      <th>287468</th>\n",
       "      <td>19</td>\n",
       "      <td>2</td>\n",
       "      <td>0.105263</td>\n",
       "      <td>1</td>\n",
       "      <td>0.052632</td>\n",
       "      <td>0</td>\n",
       "      <td>0.000000</td>\n",
       "      <td>0.052632</td>\n",
       "      <td>0.0</td>\n",
       "      <td>0.157895</td>\n",
       "      <td>...</td>\n",
       "      <td>0.000000</td>\n",
       "      <td>0.0</td>\n",
       "      <td>0.000000</td>\n",
       "      <td>0.00000</td>\n",
       "      <td>0.0</td>\n",
       "      <td>0.0</td>\n",
       "      <td>0.0</td>\n",
       "      <td>1</td>\n",
       "      <td>0.055556</td>\n",
       "      <td>4.315789</td>\n",
       "    </tr>\n",
       "    <tr>\n",
       "      <th>107333</th>\n",
       "      <td>35</td>\n",
       "      <td>4</td>\n",
       "      <td>0.114286</td>\n",
       "      <td>2</td>\n",
       "      <td>0.057143</td>\n",
       "      <td>1</td>\n",
       "      <td>0.004673</td>\n",
       "      <td>0.057143</td>\n",
       "      <td>0.0</td>\n",
       "      <td>0.057143</td>\n",
       "      <td>...</td>\n",
       "      <td>0.000000</td>\n",
       "      <td>0.0</td>\n",
       "      <td>0.028571</td>\n",
       "      <td>0.00000</td>\n",
       "      <td>0.0</td>\n",
       "      <td>0.0</td>\n",
       "      <td>0.0</td>\n",
       "      <td>3</td>\n",
       "      <td>0.090909</td>\n",
       "      <td>6.114286</td>\n",
       "    </tr>\n",
       "    <tr>\n",
       "      <th>354716</th>\n",
       "      <td>13</td>\n",
       "      <td>2</td>\n",
       "      <td>0.153846</td>\n",
       "      <td>0</td>\n",
       "      <td>0.000000</td>\n",
       "      <td>0</td>\n",
       "      <td>0.000000</td>\n",
       "      <td>0.000000</td>\n",
       "      <td>0.0</td>\n",
       "      <td>0.153846</td>\n",
       "      <td>...</td>\n",
       "      <td>0.076923</td>\n",
       "      <td>0.0</td>\n",
       "      <td>0.153846</td>\n",
       "      <td>0.00000</td>\n",
       "      <td>0.0</td>\n",
       "      <td>0.0</td>\n",
       "      <td>0.0</td>\n",
       "      <td>0</td>\n",
       "      <td>0.000000</td>\n",
       "      <td>5.153846</td>\n",
       "    </tr>\n",
       "  </tbody>\n",
       "</table>\n",
       "<p>5 rows × 45 columns</p>\n",
       "</div>"
      ],
      "text/plain": [
       "        length  advanced_word_count  advanced_words_ratio  named_entity_count  \\\n",
       "174894      32                    2              0.062500                   1   \n",
       "362266      11                    0              0.000000                   3   \n",
       "287468      19                    2              0.105263                   1   \n",
       "107333      35                    4              0.114286                   2   \n",
       "354716      13                    2              0.153846                   0   \n",
       "\n",
       "        named_entity_ratio  punctuation_score  punctuation_ratio        CC  \\\n",
       "174894            0.031250                  1           0.005376  0.031250   \n",
       "362266            0.272727                  0           0.000000  0.000000   \n",
       "287468            0.052632                  0           0.000000  0.052632   \n",
       "107333            0.057143                  1           0.004673  0.057143   \n",
       "354716            0.000000                  0           0.000000  0.000000   \n",
       "\n",
       "         CD        DT  ...       VBN  VBP       VBZ      WDT   WP  WP$  WRB  \\\n",
       "174894  0.0  0.031250  ...  0.062500  0.0  0.000000  0.03125  0.0  0.0  0.0   \n",
       "362266  0.0  0.181818  ...  0.000000  0.0  0.090909  0.00000  0.0  0.0  0.0   \n",
       "287468  0.0  0.157895  ...  0.000000  0.0  0.000000  0.00000  0.0  0.0  0.0   \n",
       "107333  0.0  0.057143  ...  0.000000  0.0  0.028571  0.00000  0.0  0.0  0.0   \n",
       "354716  0.0  0.153846  ...  0.076923  0.0  0.153846  0.00000  0.0  0.0  0.0   \n",
       "\n",
       "        hard_word_count  hard_word_ratio  avg_word_length  \n",
       "174894                2         0.066667         5.812500  \n",
       "362266                2         0.200000         4.272727  \n",
       "287468                1         0.055556         4.315789  \n",
       "107333                3         0.090909         6.114286  \n",
       "354716                0         0.000000         5.153846  \n",
       "\n",
       "[5 rows x 45 columns]"
      ]
     },
     "execution_count": 436,
     "metadata": {},
     "output_type": "execute_result"
    }
   ],
   "source": [
    "X = df[numeric_columns]\n",
    "y = df['label']\n",
    "X.head()"
   ]
  },
  {
   "cell_type": "code",
   "execution_count": 437,
   "metadata": {},
   "outputs": [],
   "source": [
    "X_train, X_test, y_train, y_test = train_test_split(X, y, test_size=0.20, random_state=42)"
   ]
  },
  {
   "cell_type": "code",
   "execution_count": 438,
   "metadata": {},
   "outputs": [
    {
     "data": {
      "text/plain": [
       "(80000, 45)"
      ]
     },
     "execution_count": 438,
     "metadata": {},
     "output_type": "execute_result"
    }
   ],
   "source": [
    "X_train.shape"
   ]
  },
  {
   "cell_type": "code",
   "execution_count": 441,
   "metadata": {},
   "outputs": [
    {
     "name": "stdout",
     "output_type": "stream",
     "text": [
      "Model: \"model_20\"\n",
      "_________________________________________________________________\n",
      "Layer (type)                 Output Shape              Param #   \n",
      "=================================================================\n",
      "input_38 (InputLayer)        [(None, 45)]              0         \n",
      "_________________________________________________________________\n",
      "dense_116 (Dense)            (None, 1000)              46000     \n",
      "_________________________________________________________________\n",
      "dropout_45 (Dropout)         (None, 1000)              0         \n",
      "_________________________________________________________________\n",
      "dense_117 (Dense)            (None, 100)               100100    \n",
      "_________________________________________________________________\n",
      "dense_118 (Dense)            (None, 10)                1010      \n",
      "_________________________________________________________________\n",
      "dense_119 (Dense)            (None, 1)                 11        \n",
      "=================================================================\n",
      "Total params: 147,121\n",
      "Trainable params: 147,121\n",
      "Non-trainable params: 0\n",
      "_________________________________________________________________\n",
      "None\n"
     ]
    }
   ],
   "source": [
    "## Numeric Only Pipeline\n",
    "\n",
    "input_2 = Input(shape=(45,))\n",
    "\n",
    "dense_layer_1 = Dense(1000, activation='relu')(input_2)\n",
    "dropout1 = Dropout(0.8)(dense_layer_1)\n",
    "dense_layer_2 = Dense(100, activation='relu')(dropout1)\n",
    "\n",
    "dense_layer_3 = Dense(10, activation='relu')(dense_layer_2)\n",
    "\n",
    "output = Dense(1, activation='sigmoid')(dense_layer_3)\n",
    "model = Model(inputs=input_2, outputs=output)\n",
    "\n",
    "model.compile(loss='binary_crossentropy', optimizer='adam', metrics=['acc'])\n",
    "print(model.summary())"
   ]
  },
  {
   "cell_type": "code",
   "execution_count": 442,
   "metadata": {},
   "outputs": [
    {
     "name": "stdout",
     "output_type": "stream",
     "text": [
      "Epoch 1/10\n",
      "2000/2000 [==============================] - 3s 1ms/step - loss: 0.6724 - acc: 0.5879 - val_loss: 0.6377 - val_acc: 0.6330\n",
      "Epoch 2/10\n",
      "2000/2000 [==============================] - 2s 1ms/step - loss: 0.6423 - acc: 0.6272 - val_loss: 0.6338 - val_acc: 0.6346\n",
      "Epoch 3/10\n",
      "2000/2000 [==============================] - 2s 1ms/step - loss: 0.6401 - acc: 0.6303 - val_loss: 0.6349 - val_acc: 0.6345\n",
      "Epoch 4/10\n",
      "2000/2000 [==============================] - 2s 1ms/step - loss: 0.6389 - acc: 0.6300 - val_loss: 0.6360 - val_acc: 0.6381\n",
      "Epoch 5/10\n",
      "2000/2000 [==============================] - 2s 1ms/step - loss: 0.6339 - acc: 0.6361 - val_loss: 0.6308 - val_acc: 0.6357\n",
      "Epoch 6/10\n",
      "2000/2000 [==============================] - 2s 1ms/step - loss: 0.6362 - acc: 0.6327 - val_loss: 0.6299 - val_acc: 0.6343\n",
      "Epoch 7/10\n",
      "2000/2000 [==============================] - 2s 1ms/step - loss: 0.6348 - acc: 0.6361 - val_loss: 0.6302 - val_acc: 0.6347\n",
      "Epoch 8/10\n",
      "2000/2000 [==============================] - 2s 1ms/step - loss: 0.6358 - acc: 0.6317 - val_loss: 0.6285 - val_acc: 0.6357\n",
      "Epoch 9/10\n",
      "2000/2000 [==============================] - 3s 1ms/step - loss: 0.6313 - acc: 0.6387 - val_loss: 0.6286 - val_acc: 0.6355\n",
      "Epoch 10/10\n",
      "2000/2000 [==============================] - 3s 1ms/step - loss: 0.6311 - acc: 0.6373 - val_loss: 0.6272 - val_acc: 0.6397\n"
     ]
    }
   ],
   "source": [
    "epochs = 10\n",
    "batch_size= 32\n",
    "history = model.fit(x=X_train, y=y_train, batch_size=batch_size, epochs=epochs, verbose=1, validation_split=0.2)"
   ]
  },
  {
   "cell_type": "markdown",
   "metadata": {},
   "source": [
    "## *3.2 - Evaluate Numeric Pipeline*"
   ]
  },
  {
   "cell_type": "code",
   "execution_count": 443,
   "metadata": {},
   "outputs": [
    {
     "name": "stdout",
     "output_type": "stream",
     "text": [
      "dict_keys(['loss', 'acc', 'val_loss', 'val_acc'])\n"
     ]
    },
    {
     "data": {
      "image/png": "[encoded data removed]",
      "text/plain": [
       "<Figure size 432x288 with 1 Axes>"
      ]
     },
     "metadata": {
      "needs_background": "light"
     },
     "output_type": "display_data"
    },
    {
     "data": {
      "image/png": "[encoded data removed]",
      "text/plain": [
       "<Figure size 432x288 with 1 Axes>"
      ]
     },
     "metadata": {
      "needs_background": "light"
     },
     "output_type": "display_data"
    }
   ],
   "source": [
    "print(history.history.keys())\n",
    "\n",
    "plt.plot(history.history['acc'])\n",
    "plt.plot(history.history['val_acc'])\n",
    "plt.title('model accuracy')\n",
    "plt.ylabel('accuracy')\n",
    "plt.xlabel('epoch')\n",
    "plt.legend(['train','validation'],loc='upper left')\n",
    "plt.show()\n",
    "#loss\n",
    "plt.plot(history.history['loss'])\n",
    "plt.plot(history.history['val_loss'])\n",
    "plt.title('model loss')\n",
    "plt.ylabel('loss')\n",
    "plt.xlabel('epoch')\n",
    "plt.legend(['train','validation'],loc='upper left')\n",
    "plt.show()"
   ]
  },
  {
   "cell_type": "code",
   "execution_count": 444,
   "metadata": {},
   "outputs": [
    {
     "name": "stdout",
     "output_type": "stream",
     "text": [
      "625/625 [==============================] - 0s 457us/step\n"
     ]
    },
    {
     "data": {
      "text/html": [
       "<div>\n",
       "<style scoped>\n",
       "    .dataframe tbody tr th:only-of-type {\n",
       "        vertical-align: middle;\n",
       "    }\n",
       "\n",
       "    .dataframe tbody tr th {\n",
       "        vertical-align: top;\n",
       "    }\n",
       "\n",
       "    .dataframe thead th {\n",
       "        text-align: right;\n",
       "    }\n",
       "</style>\n",
       "<table border=\"1\" class=\"dataframe\">\n",
       "  <thead>\n",
       "    <tr style=\"text-align: right;\">\n",
       "      <th></th>\n",
       "      <th>label</th>\n",
       "      <th>pred</th>\n",
       "    </tr>\n",
       "  </thead>\n",
       "  <tbody>\n",
       "    <tr>\n",
       "      <th>337260</th>\n",
       "      <td>0</td>\n",
       "      <td>0</td>\n",
       "    </tr>\n",
       "    <tr>\n",
       "      <th>28552</th>\n",
       "      <td>1</td>\n",
       "      <td>0</td>\n",
       "    </tr>\n",
       "    <tr>\n",
       "      <th>79929</th>\n",
       "      <td>1</td>\n",
       "      <td>0</td>\n",
       "    </tr>\n",
       "    <tr>\n",
       "      <th>9799</th>\n",
       "      <td>1</td>\n",
       "      <td>0</td>\n",
       "    </tr>\n",
       "    <tr>\n",
       "      <th>125442</th>\n",
       "      <td>1</td>\n",
       "      <td>1</td>\n",
       "    </tr>\n",
       "  </tbody>\n",
       "</table>\n",
       "</div>"
      ],
      "text/plain": [
       "        label  pred\n",
       "337260      0     0\n",
       "28552       1     0\n",
       "79929       1     0\n",
       "9799        1     0\n",
       "125442      1     1"
      ]
     },
     "execution_count": 444,
     "metadata": {},
     "output_type": "execute_result"
    }
   ],
   "source": [
    "y_testing = model.predict(x=X_test, verbose=1, batch_size=32)\n",
    "test_df = pd.DataFrame(y_test)\n",
    "test_df['pred'] = [0 if x<.5 else 1 for x in y_testing]\n",
    "test_df.sample(5)"
   ]
  },
  {
   "cell_type": "code",
   "execution_count": 445,
   "metadata": {},
   "outputs": [
    {
     "data": {
      "text/plain": [
       "0.6496"
      ]
     },
     "execution_count": 445,
     "metadata": {},
     "output_type": "execute_result"
    }
   ],
   "source": [
    "accuracy_score(test_df['pred'],test_df['label'])"
   ]
  },
  {
   "cell_type": "markdown",
   "metadata": {},
   "source": [
    "## *3.3 Add Another Pipeline for Text*"
   ]
  },
  {
   "cell_type": "code",
   "execution_count": 446,
   "metadata": {},
   "outputs": [
    {
     "name": "stderr",
     "output_type": "stream",
     "text": [
      "100%|██████████| 100000/100000 [00:31<00:00, 3181.34it/s]\n"
     ]
    }
   ],
   "source": [
    "sentences = list()\n",
    "\n",
    "lines = df['original_text'].values.tolist()\n",
    "\n",
    "for line in tqdm(lines):\n",
    "    tokens = word_tokenize(line)\n",
    "    tokens = [word.lower() for word in tokens]\n",
    "    table = str.maketrans('','',string.punctuation)\n",
    "    stripped = [w.translate(table) for w in tokens]\n",
    "    words = [word for word in stripped if word.isalpha()]\n",
    "    stop_words = set(stopwords.words('english'))\n",
    "    words = [w for w in words if not w in stop_words]\n",
    "    sentences.append(words)"
   ]
  },
  {
   "cell_type": "code",
   "execution_count": 447,
   "metadata": {},
   "outputs": [],
   "source": [
    "X1_train, X1_test, y1_train, y1_test = train_test_split(sentences, y, test_size=0.20, random_state=42)"
   ]
  },
  {
   "cell_type": "code",
   "execution_count": 448,
   "metadata": {},
   "outputs": [],
   "source": [
    "X2_train = X_train \n",
    "X2_test = X_test"
   ]
  },
  {
   "cell_type": "code",
   "execution_count": 449,
   "metadata": {},
   "outputs": [],
   "source": [
    "tokenizer = Tokenizer(num_words=5000)\n",
    "tokenizer.fit_on_texts(X1_train)\n",
    "\n",
    "X1_train = tokenizer.texts_to_sequences(X1_train)\n",
    "X1_test = tokenizer.texts_to_sequences(X1_test)\n",
    "\n",
    "vocab_size = len(tokenizer.word_index) + 1\n",
    "\n",
    "maxlen = 200\n",
    "\n",
    "X1_train = pad_sequences(X1_train, padding='post', maxlen=maxlen)\n",
    "X1_test = pad_sequences(X1_test, padding='post', maxlen=maxlen)"
   ]
  },
  {
   "cell_type": "code",
   "execution_count": 450,
   "metadata": {},
   "outputs": [],
   "source": [
    "embeddings_dictionary = dict()\n",
    "\n",
    "glove_file = open('assets/glove.6B.300d.txt', encoding=\"utf8\")\n",
    "\n",
    "for line in glove_file:\n",
    "    records = line.split()\n",
    "    word = records[0]\n",
    "    vector_dimensions = asarray(records[1:], dtype='float32')\n",
    "    embeddings_dictionary[word] = vector_dimensions\n",
    "\n",
    "glove_file.close()\n",
    "\n",
    "\n",
    "embedding_matrix = zeros((vocab_size, 300))\n",
    "for word, index in tokenizer.word_index.items():\n",
    "    embedding_vector = embeddings_dictionary.get(word)\n",
    "    if embedding_vector is not None:\n",
    "        embedding_matrix[index] = embedding_vector"
   ]
  },
  {
   "cell_type": "markdown",
   "metadata": {},
   "source": [
    "## *3.4 Build Dual Pipeline Model*"
   ]
  },
  {
   "cell_type": "code",
   "execution_count": 453,
   "metadata": {},
   "outputs": [
    {
     "name": "stdout",
     "output_type": "stream",
     "text": [
      "Model: \"model_22\"\n",
      "__________________________________________________________________________________________________\n",
      "Layer (type)                    Output Shape         Param #     Connected to                     \n",
      "==================================================================================================\n",
      "input_41 (InputLayer)           [(None, 200)]        0                                            \n",
      "__________________________________________________________________________________________________\n",
      "input_42 (InputLayer)           [(None, 45)]         0                                            \n",
      "__________________________________________________________________________________________________\n",
      "embedding_32 (Embedding)        (None, 200, 300)     23574000    input_41[0][0]                   \n",
      "__________________________________________________________________________________________________\n",
      "dense_124 (Dense)               (None, 10)           460         input_42[0][0]                   \n",
      "__________________________________________________________________________________________________\n",
      "lstm_34 (LSTM)                  (None, 5)            6120        embedding_32[0][0]               \n",
      "__________________________________________________________________________________________________\n",
      "dense_125 (Dense)               (None, 10)           110         dense_124[0][0]                  \n",
      "__________________________________________________________________________________________________\n",
      "concatenate_10 (Concatenate)    (None, 15)           0           lstm_34[0][0]                    \n",
      "                                                                 dense_125[0][0]                  \n",
      "__________________________________________________________________________________________________\n",
      "dense_126 (Dense)               (None, 10)           160         concatenate_10[0][0]             \n",
      "__________________________________________________________________________________________________\n",
      "dropout_47 (Dropout)            (None, 10)           0           dense_126[0][0]                  \n",
      "__________________________________________________________________________________________________\n",
      "dense_127 (Dense)               (None, 1)            11          dropout_47[0][0]                 \n",
      "==================================================================================================\n",
      "Total params: 23,580,861\n",
      "Trainable params: 6,861\n",
      "Non-trainable params: 23,574,000\n",
      "__________________________________________________________________________________________________\n",
      "None\n"
     ]
    }
   ],
   "source": [
    "input_1 = Input(shape=(maxlen,)) ## Input of texts to sequences, to be fed to the embedding layer \n",
    "\n",
    "input_2 = Input(shape=(45,)) ## Input of numeric features \n",
    "\n",
    "## TEXT INPUT\n",
    "embedding_layer = Embedding(vocab_size, 300, weights=[embedding_matrix], trainable=False)(input_1)\n",
    "LSTM_Layer_1 = LSTM(units=5, dropout=0.5, recurrent_dropout=0.5)(embedding_layer)\n",
    "\n",
    "\n",
    "## NUMERIC INPUT\n",
    "dense_layer_1 = Dense(10, activation='relu')(input_2)\n",
    "dense_layer_2 = Dense(10, activation='relu')(dense_layer_1)\n",
    "\n",
    "## CONCATENATE LAYERS\n",
    "concat_layer = Concatenate()([LSTM_Layer_1, dense_layer_2])\n",
    "\n",
    "\n",
    "dense_layer_3 = Dense(10, activation='relu')(concat_layer)\n",
    "dropout1 = Dropout(0.5)(dense_layer_3)\n",
    "output = Dense(1, activation='sigmoid')(dropout1)\n",
    "model = Model(inputs=[input_1, input_2], outputs=output)\n",
    "\n",
    "model.compile(loss='binary_crossentropy', optimizer='adam', metrics=['acc'])\n",
    "print(model.summary())"
   ]
  },
  {
   "cell_type": "markdown",
   "metadata": {},
   "source": [
    "## *3.5 Train Dual Pipeline Model*"
   ]
  },
  {
   "cell_type": "code",
   "execution_count": 454,
   "metadata": {},
   "outputs": [
    {
     "name": "stdout",
     "output_type": "stream",
     "text": [
      "Epoch 1/10\n",
      "2000/2000 [==============================] - 183s 91ms/step - loss: 0.6799 - acc: 0.5440 - val_loss: 0.6432 - val_acc: 0.6247\n",
      "Epoch 2/10\n",
      "2000/2000 [==============================] - 178s 89ms/step - loss: 0.6589 - acc: 0.5960 - val_loss: 0.6461 - val_acc: 0.6293\n",
      "Epoch 3/10\n",
      "2000/2000 [==============================] - 178s 89ms/step - loss: 0.6563 - acc: 0.5973 - val_loss: 0.6404 - val_acc: 0.6370\n",
      "Epoch 4/10\n",
      "2000/2000 [==============================] - 175s 87ms/step - loss: 0.6546 - acc: 0.6044 - val_loss: 0.6366 - val_acc: 0.6423\n",
      "Epoch 5/10\n",
      "2000/2000 [==============================] - 175s 87ms/step - loss: 0.6546 - acc: 0.6027 - val_loss: 0.6428 - val_acc: 0.6353\n",
      "Epoch 6/10\n",
      "2000/2000 [==============================] - 177s 88ms/step - loss: 0.6547 - acc: 0.5977 - val_loss: 0.6318 - val_acc: 0.6409\n",
      "Epoch 7/10\n",
      "2000/2000 [==============================] - 176s 88ms/step - loss: 0.6531 - acc: 0.6097 - val_loss: 0.6343 - val_acc: 0.6371\n",
      "Epoch 8/10\n",
      "2000/2000 [==============================] - 175s 88ms/step - loss: 0.6521 - acc: 0.6060 - val_loss: 0.6330 - val_acc: 0.6506\n",
      "Epoch 9/10\n",
      "2000/2000 [==============================] - 176s 88ms/step - loss: 0.6517 - acc: 0.6058 - val_loss: 0.6332 - val_acc: 0.6501\n",
      "Epoch 10/10\n",
      "2000/2000 [==============================] - 179s 90ms/step - loss: 0.6510 - acc: 0.6092 - val_loss: 0.6315 - val_acc: 0.6549\n"
     ]
    }
   ],
   "source": [
    "epochs = 10\n",
    "batch_size= 32\n",
    "history = model.fit(x=[X1_train, X2_train], y=y_train, batch_size=batch_size, epochs=epochs, verbose=1, validation_split=0.2)"
   ]
  },
  {
   "cell_type": "markdown",
   "metadata": {},
   "source": [
    "## *3.6 Evaluate Dual Pipeline Model*"
   ]
  },
  {
   "cell_type": "code",
   "execution_count": 455,
   "metadata": {},
   "outputs": [
    {
     "name": "stdout",
     "output_type": "stream",
     "text": [
      "dict_keys(['loss', 'acc', 'val_loss', 'val_acc'])\n"
     ]
    },
    {
     "data": {
      "image/png": "[encoded data removed]",
      "text/plain": [
       "<Figure size 432x288 with 1 Axes>"
      ]
     },
     "metadata": {
      "needs_background": "light"
     },
     "output_type": "display_data"
    },
    {
     "data": {
      "image/png": "[encoded data removed]",
      "text/plain": [
       "<Figure size 432x288 with 1 Axes>"
      ]
     },
     "metadata": {
      "needs_background": "light"
     },
     "output_type": "display_data"
    }
   ],
   "source": [
    "print(history.history.keys())\n",
    "\n",
    "plt.plot(history.history['acc'])\n",
    "plt.plot(history.history['val_acc'])\n",
    "plt.title('model accuracy')\n",
    "plt.ylabel('accuracy')\n",
    "plt.xlabel('epoch')\n",
    "plt.legend(['train','validation'],loc='upper left')\n",
    "plt.show()\n",
    "#loss\n",
    "plt.plot(history.history['loss'])\n",
    "plt.plot(history.history['val_loss'])\n",
    "plt.title('model loss')\n",
    "plt.ylabel('loss')\n",
    "plt.xlabel('epoch')\n",
    "plt.legend(['train','validation'],loc='upper left')\n",
    "plt.show()"
   ]
  },
  {
   "cell_type": "code",
   "execution_count": 456,
   "metadata": {},
   "outputs": [
    {
     "name": "stdout",
     "output_type": "stream",
     "text": [
      "625/625 [==============================] - 14s 22ms/step - loss: 0.6272 - acc: 0.6576\n",
      "Test score: 0.6271652579307556\n",
      "Test accuracy: 0.6576499938964844\n"
     ]
    }
   ],
   "source": [
    "score, acc = model.evaluate(x=[X1_test, X2_test], y=y_test, batch_size=32)\n",
    "print('Test score:', score)\n",
    "print('Test accuracy:', acc)"
   ]
  },
  {
   "cell_type": "code",
   "execution_count": 457,
   "metadata": {},
   "outputs": [
    {
     "name": "stdout",
     "output_type": "stream",
     "text": [
      "625/625 [==============================] - 14s 22ms/step\n"
     ]
    }
   ],
   "source": [
    "y_testing = model.predict(x=[X1_test, X2_test], verbose=1, batch_size=32)"
   ]
  },
  {
   "cell_type": "code",
   "execution_count": 458,
   "metadata": {},
   "outputs": [],
   "source": [
    "test_df = pd.DataFrame(y_test)\n",
    "test_df['pred'] = [0 if x<.5 else 1 for x in y_testing ]"
   ]
  },
  {
   "cell_type": "code",
   "execution_count": 459,
   "metadata": {},
   "outputs": [
    {
     "data": {
      "text/plain": [
       "0.65765"
      ]
     },
     "execution_count": 459,
     "metadata": {},
     "output_type": "execute_result"
    }
   ],
   "source": [
    "accuracy_score(test_df['pred'],test_df['label'])"
   ]
  },
  {
   "cell_type": "markdown",
   "metadata": {},
   "source": [
    "# **4 - CNNs with Text**"
   ]
  },
  {
   "cell_type": "markdown",
   "metadata": {},
   "source": [
    "## *4.1 Split Data and Preprocess Text*"
   ]
  },
  {
   "cell_type": "code",
   "execution_count": 460,
   "metadata": {},
   "outputs": [
    {
     "data": {
      "text/html": [
       "<div>\n",
       "<style scoped>\n",
       "    .dataframe tbody tr th:only-of-type {\n",
       "        vertical-align: middle;\n",
       "    }\n",
       "\n",
       "    .dataframe tbody tr th {\n",
       "        vertical-align: top;\n",
       "    }\n",
       "\n",
       "    .dataframe thead th {\n",
       "        text-align: right;\n",
       "    }\n",
       "</style>\n",
       "<table border=\"1\" class=\"dataframe\">\n",
       "  <thead>\n",
       "    <tr style=\"text-align: right;\">\n",
       "      <th></th>\n",
       "      <th>original_text</th>\n",
       "      <th>label</th>\n",
       "      <th>tokens</th>\n",
       "      <th>length</th>\n",
       "      <th>advanced_word_count</th>\n",
       "      <th>advanced_words_ratio</th>\n",
       "      <th>named_entity_count</th>\n",
       "      <th>named_entity_ratio</th>\n",
       "      <th>punctuation_score</th>\n",
       "      <th>punctuation_ratio</th>\n",
       "      <th>...</th>\n",
       "      <th>VBP</th>\n",
       "      <th>VBZ</th>\n",
       "      <th>WDT</th>\n",
       "      <th>WP</th>\n",
       "      <th>WP$</th>\n",
       "      <th>WRB</th>\n",
       "      <th>token_lemmas</th>\n",
       "      <th>hard_word_count</th>\n",
       "      <th>hard_word_ratio</th>\n",
       "      <th>avg_word_length</th>\n",
       "    </tr>\n",
       "  </thead>\n",
       "  <tbody>\n",
       "    <tr>\n",
       "      <th>174894</th>\n",
       "      <td>Louvers originated in the Middle Ages as lante...</td>\n",
       "      <td>1</td>\n",
       "      <td>['Louvers', 'originated', 'in', 'the', 'Middle...</td>\n",
       "      <td>32</td>\n",
       "      <td>2</td>\n",
       "      <td>0.062500</td>\n",
       "      <td>1</td>\n",
       "      <td>0.031250</td>\n",
       "      <td>1</td>\n",
       "      <td>0.005376</td>\n",
       "      <td>...</td>\n",
       "      <td>0.0</td>\n",
       "      <td>0.000000</td>\n",
       "      <td>0.03125</td>\n",
       "      <td>0.0</td>\n",
       "      <td>0.0</td>\n",
       "      <td>0.0</td>\n",
       "      <td>['louvers', 'originate', 'in', 'the', 'middle'...</td>\n",
       "      <td>2</td>\n",
       "      <td>0.066667</td>\n",
       "      <td>5.812500</td>\n",
       "    </tr>\n",
       "    <tr>\n",
       "      <th>362266</th>\n",
       "      <td>Nampa is a city of Idaho in the United States .</td>\n",
       "      <td>0</td>\n",
       "      <td>['Nampa', 'is', 'a', 'city', 'of', 'Idaho', 'i...</td>\n",
       "      <td>11</td>\n",
       "      <td>0</td>\n",
       "      <td>0.000000</td>\n",
       "      <td>3</td>\n",
       "      <td>0.272727</td>\n",
       "      <td>0</td>\n",
       "      <td>0.000000</td>\n",
       "      <td>...</td>\n",
       "      <td>0.0</td>\n",
       "      <td>0.090909</td>\n",
       "      <td>0.00000</td>\n",
       "      <td>0.0</td>\n",
       "      <td>0.0</td>\n",
       "      <td>0.0</td>\n",
       "      <td>['nampa', 'be', 'a', 'city', 'of', 'idaho', 'i...</td>\n",
       "      <td>2</td>\n",
       "      <td>0.200000</td>\n",
       "      <td>4.272727</td>\n",
       "    </tr>\n",
       "    <tr>\n",
       "      <th>287468</th>\n",
       "      <td>He worked as a kitchen boy at a cheap Paris ca...</td>\n",
       "      <td>0</td>\n",
       "      <td>['He', 'worked', 'as', 'a', 'kitchen', 'boy', ...</td>\n",
       "      <td>19</td>\n",
       "      <td>2</td>\n",
       "      <td>0.105263</td>\n",
       "      <td>1</td>\n",
       "      <td>0.052632</td>\n",
       "      <td>0</td>\n",
       "      <td>0.000000</td>\n",
       "      <td>...</td>\n",
       "      <td>0.0</td>\n",
       "      <td>0.000000</td>\n",
       "      <td>0.00000</td>\n",
       "      <td>0.0</td>\n",
       "      <td>0.0</td>\n",
       "      <td>0.0</td>\n",
       "      <td>['he', 'work', 'a', 'a', 'kitchen', 'boy', 'at...</td>\n",
       "      <td>1</td>\n",
       "      <td>0.055556</td>\n",
       "      <td>4.315789</td>\n",
       "    </tr>\n",
       "    <tr>\n",
       "      <th>107333</th>\n",
       "      <td>However , his thoughts on the relative importa...</td>\n",
       "      <td>1</td>\n",
       "      <td>['However', ',', 'his', 'thoughts', 'on', 'the...</td>\n",
       "      <td>35</td>\n",
       "      <td>4</td>\n",
       "      <td>0.114286</td>\n",
       "      <td>2</td>\n",
       "      <td>0.057143</td>\n",
       "      <td>1</td>\n",
       "      <td>0.004673</td>\n",
       "      <td>...</td>\n",
       "      <td>0.0</td>\n",
       "      <td>0.028571</td>\n",
       "      <td>0.00000</td>\n",
       "      <td>0.0</td>\n",
       "      <td>0.0</td>\n",
       "      <td>0.0</td>\n",
       "      <td>['however', 'his', 'thought', 'on', 'the', 're...</td>\n",
       "      <td>3</td>\n",
       "      <td>0.090909</td>\n",
       "      <td>6.114286</td>\n",
       "    </tr>\n",
       "    <tr>\n",
       "      <th>354716</th>\n",
       "      <td>The area it covers is defined differently for ...</td>\n",
       "      <td>0</td>\n",
       "      <td>['The', 'area', 'it', 'covers', 'is', 'defined...</td>\n",
       "      <td>13</td>\n",
       "      <td>2</td>\n",
       "      <td>0.153846</td>\n",
       "      <td>0</td>\n",
       "      <td>0.000000</td>\n",
       "      <td>0</td>\n",
       "      <td>0.000000</td>\n",
       "      <td>...</td>\n",
       "      <td>0.0</td>\n",
       "      <td>0.153846</td>\n",
       "      <td>0.00000</td>\n",
       "      <td>0.0</td>\n",
       "      <td>0.0</td>\n",
       "      <td>0.0</td>\n",
       "      <td>['the', 'area', 'it', 'cover', 'be', 'define',...</td>\n",
       "      <td>0</td>\n",
       "      <td>0.000000</td>\n",
       "      <td>5.153846</td>\n",
       "    </tr>\n",
       "  </tbody>\n",
       "</table>\n",
       "<p>5 rows × 49 columns</p>\n",
       "</div>"
      ],
      "text/plain": [
       "                                            original_text  label  \\\n",
       "174894  Louvers originated in the Middle Ages as lante...      1   \n",
       "362266    Nampa is a city of Idaho in the United States .      0   \n",
       "287468  He worked as a kitchen boy at a cheap Paris ca...      0   \n",
       "107333  However , his thoughts on the relative importa...      1   \n",
       "354716  The area it covers is defined differently for ...      0   \n",
       "\n",
       "                                                   tokens  length  \\\n",
       "174894  ['Louvers', 'originated', 'in', 'the', 'Middle...      32   \n",
       "362266  ['Nampa', 'is', 'a', 'city', 'of', 'Idaho', 'i...      11   \n",
       "287468  ['He', 'worked', 'as', 'a', 'kitchen', 'boy', ...      19   \n",
       "107333  ['However', ',', 'his', 'thoughts', 'on', 'the...      35   \n",
       "354716  ['The', 'area', 'it', 'covers', 'is', 'defined...      13   \n",
       "\n",
       "        advanced_word_count  advanced_words_ratio  named_entity_count  \\\n",
       "174894                    2              0.062500                   1   \n",
       "362266                    0              0.000000                   3   \n",
       "287468                    2              0.105263                   1   \n",
       "107333                    4              0.114286                   2   \n",
       "354716                    2              0.153846                   0   \n",
       "\n",
       "        named_entity_ratio  punctuation_score  punctuation_ratio  ...  VBP  \\\n",
       "174894            0.031250                  1           0.005376  ...  0.0   \n",
       "362266            0.272727                  0           0.000000  ...  0.0   \n",
       "287468            0.052632                  0           0.000000  ...  0.0   \n",
       "107333            0.057143                  1           0.004673  ...  0.0   \n",
       "354716            0.000000                  0           0.000000  ...  0.0   \n",
       "\n",
       "             VBZ      WDT   WP  WP$  WRB  \\\n",
       "174894  0.000000  0.03125  0.0  0.0  0.0   \n",
       "362266  0.090909  0.00000  0.0  0.0  0.0   \n",
       "287468  0.000000  0.00000  0.0  0.0  0.0   \n",
       "107333  0.028571  0.00000  0.0  0.0  0.0   \n",
       "354716  0.153846  0.00000  0.0  0.0  0.0   \n",
       "\n",
       "                                             token_lemmas  hard_word_count  \\\n",
       "174894  ['louvers', 'originate', 'in', 'the', 'middle'...                2   \n",
       "362266  ['nampa', 'be', 'a', 'city', 'of', 'idaho', 'i...                2   \n",
       "287468  ['he', 'work', 'a', 'a', 'kitchen', 'boy', 'at...                1   \n",
       "107333  ['however', 'his', 'thought', 'on', 'the', 're...                3   \n",
       "354716  ['the', 'area', 'it', 'cover', 'be', 'define',...                0   \n",
       "\n",
       "        hard_word_ratio  avg_word_length  \n",
       "174894         0.066667         5.812500  \n",
       "362266         0.200000         4.272727  \n",
       "287468         0.055556         4.315789  \n",
       "107333         0.090909         6.114286  \n",
       "354716         0.000000         5.153846  \n",
       "\n",
       "[5 rows x 49 columns]"
      ]
     },
     "execution_count": 460,
     "metadata": {},
     "output_type": "execute_result"
    }
   ],
   "source": [
    "b = int(len(df)*.8)\n",
    "test_df = df[b:]\n",
    "train_df = df[:b]\n",
    "train_df.head()"
   ]
  },
  {
   "cell_type": "code",
   "execution_count": 461,
   "metadata": {},
   "outputs": [
    {
     "data": {
      "text/plain": [
       "(80000, 20000)"
      ]
     },
     "execution_count": 461,
     "metadata": {},
     "output_type": "execute_result"
    }
   ],
   "source": [
    "len(train_df),len(test_df)"
   ]
  },
  {
   "cell_type": "code",
   "execution_count": 462,
   "metadata": {},
   "outputs": [],
   "source": [
    "x = train_df['original_text'].values\n",
    "y = train_df['label'].values"
   ]
  },
  {
   "cell_type": "code",
   "execution_count": 463,
   "metadata": {},
   "outputs": [],
   "source": [
    "max_features = 20000\n",
    "max_text_length = 150\n",
    "x_tokenizer = text.Tokenizer(max_features)\n",
    "x_tokenizer.fit_on_texts(list(x))\n",
    "x_tokenized = x_tokenizer.texts_to_sequences(x)\n",
    "x_train_val = sequence.pad_sequences(x_tokenized,maxlen=max_text_length)"
   ]
  },
  {
   "cell_type": "code",
   "execution_count": 464,
   "metadata": {},
   "outputs": [
    {
     "name": "stdout",
     "output_type": "stream",
     "text": [
      "Found 400000 word vectors.\n"
     ]
    }
   ],
   "source": [
    "embedding_dim = 300\n",
    "embeddings_index = dict()\n",
    "f = open('assets/glove.6B.300d.txt')\n",
    "for line in f:\n",
    "    values = line.split()\n",
    "    word = values[0]\n",
    "    coefs = np.asarray(values[1:],dtype='float32')\n",
    "    embeddings_index[word] = coefs\n",
    "f.close()\n",
    "print(f'Found {len(embeddings_index)} word vectors.' )"
   ]
  },
  {
   "cell_type": "markdown",
   "metadata": {},
   "source": [
    "## *4.2 Build Embedding Matrix with GloVe Embeddings*"
   ]
  },
  {
   "cell_type": "code",
   "execution_count": 465,
   "metadata": {},
   "outputs": [],
   "source": [
    "embedding_matrix = np.zeros((max_features,embedding_dim))\n",
    "for word, index in x_tokenizer.word_index.items():\n",
    "    if index > max_features -1:\n",
    "        break\n",
    "    else:\n",
    "        embedding_vector = embeddings_index.get(word)\n",
    "        if embedding_vector is not None:\n",
    "            embedding_matrix[index] = embedding_vector"
   ]
  },
  {
   "cell_type": "markdown",
   "metadata": {},
   "source": [
    "## *4.3 Build CNN Model*"
   ]
  },
  {
   "cell_type": "code",
   "execution_count": 466,
   "metadata": {},
   "outputs": [],
   "source": [
    "model = Sequential()\n",
    "model.add(Embedding(max_features,\n",
    "                    embedding_dim,\n",
    "                    embeddings_initializer = tf.keras.initializers.Constant(embedding_matrix),\n",
    "                    trainable=False))\n",
    "model.add(Dropout(0.4))"
   ]
  },
  {
   "cell_type": "code",
   "execution_count": 467,
   "metadata": {},
   "outputs": [
    {
     "name": "stdout",
     "output_type": "stream",
     "text": [
      "Model: \"sequential_22\"\n",
      "_________________________________________________________________\n",
      "Layer (type)                 Output Shape              Param #   \n",
      "=================================================================\n",
      "embedding_33 (Embedding)     (None, None, 300)         6000000   \n",
      "_________________________________________________________________\n",
      "dropout_48 (Dropout)         (None, None, 300)         0         \n",
      "_________________________________________________________________\n",
      "conv1d_12 (Conv1D)           (None, None, 250)         225250    \n",
      "_________________________________________________________________\n",
      "max_pooling1d_6 (MaxPooling1 (None, None, 250)         0         \n",
      "_________________________________________________________________\n",
      "conv1d_13 (Conv1D)           (None, None, 250)         187750    \n",
      "_________________________________________________________________\n",
      "global_max_pooling1d_6 (Glob (None, 250)               0         \n",
      "_________________________________________________________________\n",
      "dense_128 (Dense)            (None, 250)               62750     \n",
      "_________________________________________________________________\n",
      "dropout_49 (Dropout)         (None, 250)               0         \n",
      "_________________________________________________________________\n",
      "dense_129 (Dense)            (None, 1)                 251       \n",
      "=================================================================\n",
      "Total params: 6,476,001\n",
      "Trainable params: 476,001\n",
      "Non-trainable params: 6,000,000\n",
      "_________________________________________________________________\n"
     ]
    }
   ],
   "source": [
    "filters = 250\n",
    "kernel_size = 3\n",
    "hidden_dims = 250\n",
    "\n",
    "model.add(Conv1D(filters,\n",
    "                kernel_size,\n",
    "                padding='valid'))\n",
    "model.add(MaxPooling1D())\n",
    "model.add(Conv1D(filters,\n",
    "                kernel_size,\n",
    "                padding='valid',\n",
    "                activation='relu'))\n",
    "model.add(GlobalMaxPooling1D())\n",
    "model.add(Dense(hidden_dims,activation='relu'))\n",
    "model.add(Dropout(0.3))\n",
    "\n",
    "model.add(Dense(1,activation='sigmoid'))\n",
    "model.summary()"
   ]
  },
  {
   "cell_type": "code",
   "execution_count": 468,
   "metadata": {},
   "outputs": [],
   "source": [
    "model.compile(loss='binary_crossentropy',optimizer='adam',metrics=['accuracy'])"
   ]
  },
  {
   "cell_type": "markdown",
   "metadata": {},
   "source": [
    "## *4.4 Train CNN Model*"
   ]
  },
  {
   "cell_type": "code",
   "execution_count": 469,
   "metadata": {},
   "outputs": [],
   "source": [
    "x_train, x_val, y_train, y_val = train_test_split(x_train_val,y,test_size=0.15, random_state=1)"
   ]
  },
  {
   "cell_type": "code",
   "execution_count": 470,
   "metadata": {},
   "outputs": [
    {
     "name": "stdout",
     "output_type": "stream",
     "text": [
      "Epoch 1/10\n",
      "2125/2125 [==============================] - 86s 40ms/step - loss: 0.6428 - accuracy: 0.6225 - val_loss: 0.6200 - val_accuracy: 0.6348\n",
      "Epoch 2/10\n",
      "2125/2125 [==============================] - 86s 41ms/step - loss: 0.5944 - accuracy: 0.6661 - val_loss: 0.5926 - val_accuracy: 0.6734\n",
      "Epoch 3/10\n",
      "2125/2125 [==============================] - 85s 40ms/step - loss: 0.5748 - accuracy: 0.6854 - val_loss: 0.5832 - val_accuracy: 0.6786\n",
      "Epoch 4/10\n",
      "2125/2125 [==============================] - 83s 39ms/step - loss: 0.5634 - accuracy: 0.6901 - val_loss: 0.6079 - val_accuracy: 0.6441\n",
      "Epoch 5/10\n",
      "2125/2125 [==============================] - 83s 39ms/step - loss: 0.5568 - accuracy: 0.6988 - val_loss: 0.5777 - val_accuracy: 0.6829\n",
      "Epoch 6/10\n",
      "2125/2125 [==============================] - 83s 39ms/step - loss: 0.5477 - accuracy: 0.7092 - val_loss: 0.6103 - val_accuracy: 0.6787\n",
      "Epoch 7/10\n",
      "2125/2125 [==============================] - 89s 42ms/step - loss: 0.5370 - accuracy: 0.7147 - val_loss: 0.5891 - val_accuracy: 0.6789\n",
      "Epoch 8/10\n",
      "2125/2125 [==============================] - 87s 41ms/step - loss: 0.5215 - accuracy: 0.7282 - val_loss: 0.5959 - val_accuracy: 0.6726\n",
      "Epoch 9/10\n",
      "2125/2125 [==============================] - 90s 42ms/step - loss: 0.5160 - accuracy: 0.7318 - val_loss: 0.6177 - val_accuracy: 0.6642\n",
      "Epoch 10/10\n",
      "2125/2125 [==============================] - 89s 42ms/step - loss: 0.5060 - accuracy: 0.7396 - val_loss: 0.6081 - val_accuracy: 0.6752\n"
     ]
    },
    {
     "data": {
      "text/plain": [
       "<tensorflow.python.keras.callbacks.History at 0x7fdd09bb4670>"
      ]
     },
     "execution_count": 470,
     "metadata": {},
     "output_type": "execute_result"
    }
   ],
   "source": [
    "batch_size = 32\n",
    "epochs = 10\n",
    "model.fit(x_train,y_train,\n",
    "          batch_size=batch_size,\n",
    "          epochs = epochs,\n",
    "          validation_data=(x_val,y_val))"
   ]
  },
  {
   "cell_type": "markdown",
   "metadata": {},
   "source": [
    "## *4.5 Evaluate CNN Model*"
   ]
  },
  {
   "cell_type": "code",
   "execution_count": 471,
   "metadata": {},
   "outputs": [
    {
     "name": "stdout",
     "output_type": "stream",
     "text": [
      "dict_keys(['loss', 'acc', 'val_loss', 'val_acc'])\n"
     ]
    },
    {
     "data": {
      "image/png": "[encoded data removed]",
      "text/plain": [
       "<Figure size 432x288 with 1 Axes>"
      ]
     },
     "metadata": {
      "needs_background": "light"
     },
     "output_type": "display_data"
    },
    {
     "data": {
      "image/png": "[encoded data removed]",
      "text/plain": [
       "<Figure size 432x288 with 1 Axes>"
      ]
     },
     "metadata": {
      "needs_background": "light"
     },
     "output_type": "display_data"
    }
   ],
   "source": [
    "print(history.history.keys())\n",
    "\n",
    "plt.plot(history.history['acc'])\n",
    "plt.plot(history.history['val_acc'])\n",
    "plt.title('model accuracy')\n",
    "plt.ylabel('accuracy')\n",
    "plt.xlabel('epoch')\n",
    "plt.legend(['train','validation'],loc='upper left')\n",
    "plt.show()\n",
    "#loss\n",
    "plt.plot(history.history['loss'])\n",
    "plt.plot(history.history['val_loss'])\n",
    "plt.title('model loss')\n",
    "plt.ylabel('loss')\n",
    "plt.xlabel('epoch')\n",
    "plt.legend(['train','validation'],loc='upper left')\n",
    "plt.show()"
   ]
  },
  {
   "cell_type": "code",
   "execution_count": 472,
   "metadata": {},
   "outputs": [
    {
     "name": "stdout",
     "output_type": "stream",
     "text": [
      "625/625 [==============================] - 7s 10ms/step\n"
     ]
    },
    {
     "name": "stderr",
     "output_type": "stream",
     "text": [
      "<ipython-input-472-7e9b438cea31>:6: SettingWithCopyWarning: \n",
      "A value is trying to be set on a copy of a slice from a DataFrame.\n",
      "Try using .loc[row_indexer,col_indexer] = value instead\n",
      "\n",
      "See the caveats in the documentation: https://pandas.pydata.org/pandas-docs/stable/user_guide/indexing.html#returning-a-view-versus-a-copy\n",
      "  test_df['pred'] = y_list\n"
     ]
    },
    {
     "data": {
      "text/html": [
       "<div>\n",
       "<style scoped>\n",
       "    .dataframe tbody tr th:only-of-type {\n",
       "        vertical-align: middle;\n",
       "    }\n",
       "\n",
       "    .dataframe tbody tr th {\n",
       "        vertical-align: top;\n",
       "    }\n",
       "\n",
       "    .dataframe thead th {\n",
       "        text-align: right;\n",
       "    }\n",
       "</style>\n",
       "<table border=\"1\" class=\"dataframe\">\n",
       "  <thead>\n",
       "    <tr style=\"text-align: right;\">\n",
       "      <th></th>\n",
       "      <th>original_text</th>\n",
       "      <th>pred</th>\n",
       "      <th>label</th>\n",
       "    </tr>\n",
       "  </thead>\n",
       "  <tbody>\n",
       "    <tr>\n",
       "      <th>361491</th>\n",
       "      <td>The job is now used mostly in the Guards , whe...</td>\n",
       "      <td>0</td>\n",
       "      <td>0</td>\n",
       "    </tr>\n",
       "    <tr>\n",
       "      <th>209934</th>\n",
       "      <td>Michael James Hegstrand -LRB- September 12 , 1...</td>\n",
       "      <td>0</td>\n",
       "      <td>0</td>\n",
       "    </tr>\n",
       "    <tr>\n",
       "      <th>299702</th>\n",
       "      <td>She used to be a member of pop group the Spice...</td>\n",
       "      <td>0</td>\n",
       "      <td>0</td>\n",
       "    </tr>\n",
       "    <tr>\n",
       "      <th>83829</th>\n",
       "      <td>Elsa kneels in front of him and places her hon...</td>\n",
       "      <td>1</td>\n",
       "      <td>1</td>\n",
       "    </tr>\n",
       "    <tr>\n",
       "      <th>338385</th>\n",
       "      <td>The driver must have finished well on a regula...</td>\n",
       "      <td>0</td>\n",
       "      <td>0</td>\n",
       "    </tr>\n",
       "    <tr>\n",
       "      <th>189656</th>\n",
       "      <td>Madeline is a children 's book series written ...</td>\n",
       "      <td>1</td>\n",
       "      <td>1</td>\n",
       "    </tr>\n",
       "    <tr>\n",
       "      <th>96334</th>\n",
       "      <td>102 Dalmatians : Puppies to the Rescue is a vi...</td>\n",
       "      <td>1</td>\n",
       "      <td>1</td>\n",
       "    </tr>\n",
       "    <tr>\n",
       "      <th>47730</th>\n",
       "      <td>The Silk Road -LRB- -RRB- -LRB- or Silk Routes...</td>\n",
       "      <td>1</td>\n",
       "      <td>1</td>\n",
       "    </tr>\n",
       "    <tr>\n",
       "      <th>4446</th>\n",
       "      <td>This led to decolonisation , and a withdrawal ...</td>\n",
       "      <td>0</td>\n",
       "      <td>1</td>\n",
       "    </tr>\n",
       "    <tr>\n",
       "      <th>491</th>\n",
       "      <td>As a team owner he became a member of the Form...</td>\n",
       "      <td>0</td>\n",
       "      <td>1</td>\n",
       "    </tr>\n",
       "  </tbody>\n",
       "</table>\n",
       "</div>"
      ],
      "text/plain": [
       "                                            original_text  pred  label\n",
       "361491  The job is now used mostly in the Guards , whe...     0      0\n",
       "209934  Michael James Hegstrand -LRB- September 12 , 1...     0      0\n",
       "299702  She used to be a member of pop group the Spice...     0      0\n",
       "83829   Elsa kneels in front of him and places her hon...     1      1\n",
       "338385  The driver must have finished well on a regula...     0      0\n",
       "189656  Madeline is a children 's book series written ...     1      1\n",
       "96334   102 Dalmatians : Puppies to the Rescue is a vi...     1      1\n",
       "47730   The Silk Road -LRB- -RRB- -LRB- or Silk Routes...     1      1\n",
       "4446    This led to decolonisation , and a withdrawal ...     0      1\n",
       "491     As a team owner he became a member of the Form...     0      1"
      ]
     },
     "execution_count": 472,
     "metadata": {},
     "output_type": "execute_result"
    }
   ],
   "source": [
    "x_test = test_df['original_text'].values\n",
    "x_test_tokenized = x_tokenizer.texts_to_sequences(x_test)\n",
    "x_testing = sequence.pad_sequences(x_test_tokenized, maxlen=max_text_length)\n",
    "y_testing = model.predict(x_testing, verbose=1, batch_size=32)\n",
    "y_list = [0 if x<.5 else 1 for x in y_testing]\n",
    "test_df['pred'] = y_list\n",
    "test_df[['original_text','pred','label']].sample(10)"
   ]
  },
  {
   "cell_type": "code",
   "execution_count": 473,
   "metadata": {},
   "outputs": [
    {
     "data": {
      "text/plain": [
       "0.68715"
      ]
     },
     "execution_count": 473,
     "metadata": {},
     "output_type": "execute_result"
    }
   ],
   "source": [
    "accuracy_score(test_df['pred'],test_df['label'])"
   ]
  },
  {
   "cell_type": "markdown",
   "metadata": {},
   "source": [
    "## Resources Used:\n",
    "* https://realpython.com/python-keras-text-classification/ \n",
    "* https://cezannec.github.io/CNN_Text_Classification/ \n",
    "* https://towardsdatascience.com/multi-class-text-classification-with-lstm-1590bee1bd17\n",
    "* https://towardsdatascience.com/multi-class-text-classification-with-lstm-using-tensorflow-2-0-d88627c10a35\n",
    "* https://www.pyimagesearch.com/2019/02/04/keras-multiple-inputs-and-mixed-data/\n",
    "* https://blog.keras.io/a-ten-minute-introduction-to-sequence-to-sequence-learning-in-keras.html\n",
    "* https://machinelearningmastery.com/develop-encoder-decoder-model-sequence-sequence-prediction-keras/\n",
    "* https://machinelearningmastery.com/sequence-classification-lstm-recurrent-neural-networks-python-keras/\n"
   ]
  },
  {
   "cell_type": "markdown",
   "metadata": {},
   "source": [
    "## Thanks!"
   ]
  }
 ],
 "metadata": {
  "colab": {
   "name": "Text Classification Using Word2Vec and LSTMs on Keras.ipynb",
   "provenance": []
  },
  "kernelspec": {
   "display_name": "Python 3",
   "language": "python",
   "name": "python3"
  },
  "language_info": {
   "codemirror_mode": {
    "name": "ipython",
    "version": 3
   },
   "file_extension": ".py",
   "mimetype": "text/x-python",
   "name": "python",
   "nbconvert_exporter": "python",
   "pygments_lexer": "ipython3",
   "version": "3.8.5"
  }
 },
 "nbformat": 4,
 "nbformat_minor": 4
}
